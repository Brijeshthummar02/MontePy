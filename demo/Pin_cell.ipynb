{
 "cells": [
  {
   "cell_type": "code",
   "execution_count": 2,
   "id": "828d41f1-76d8-4dd0-ae22-3b5b7952726d",
   "metadata": {},
   "outputs": [
    {
     "data": {
      "text/plain": [
       "'0.2.3dev2'"
      ]
     },
     "execution_count": 2,
     "metadata": {},
     "output_type": "execute_result"
    }
   ],
   "source": [
    "import montepy\n",
    "montepy.__version__"
   ]
  },
  {
   "cell_type": "code",
   "execution_count": 3,
   "id": "c5d3aa79-57bf-4036-b40f-69c2f5d80dd4",
   "metadata": {},
   "outputs": [],
   "source": [
    "problem = montepy.read_input(\"pin_cell.imcnp\")"
   ]
  },
  {
   "cell_type": "code",
   "execution_count": 4,
   "id": "9432edc7-1f64-4bd3-9697-84165325ed30",
   "metadata": {},
   "outputs": [
    {
     "data": {
      "text/plain": [
       "MCNP problem for: pin_cell.imcnp\n",
       "TITLE: Made up PWR pin Cell Problem\n",
       "CELL: 1, mat: 1, DENS: 10.0 g/cm3\n",
       "CELL: 2, mat: 0, DENS: None\n",
       "CELL: 3, mat: 10, DENS: 5.0 g/cm3\n",
       "CELL: 5, mat: 2, DENS: 1.0 g/cm3\n",
       "Mode: {<Particle.NEUTRON: 'N'>}\n",
       "DATA INPUT: nps "
      ]
     },
     "execution_count": 4,
     "metadata": {},
     "output_type": "execute_result"
    }
   ],
   "source": [
    "problem"
   ]
  },
  {
   "cell_type": "code",
   "execution_count": 5,
   "id": "086f6d12-8052-4b30-b39e-cc4caa6555a8",
   "metadata": {},
   "outputs": [
    {
     "data": {
      "text/plain": [
       "Numbered_object_collection: obj_class: <class 'montepy.data_inputs.material.Material'>, problem: MCNP problem for: pin_cell.imcnp, TITLE: Made up PWR pin Cell Problem\n",
       "Objects: [MATERIAL: 1 fractions: atom\n",
       " U-235 (80c) 0.04\n",
       " U-238 (80c) 0.96\n",
       ", MATERIAL: 2 fractions: atom\n",
       " H-1   (80c) 0.66\n",
       " O-16  (80c) 0.33\n",
       ", MATERIAL: 10 fractions: atom\n",
       "Zr-90  (80c) 0.515\n",
       "Zr-91  (80c) 0.112\n",
       "Zr-92  (80c) 0.171\n",
       "Zr-94  (80c) 0.174\n",
       "Zr-96  (80c) 0.028\n",
       "]\n",
       "Number cache: {1: MATERIAL: 1 fractions: atom\n",
       " U-235 (80c) 0.04\n",
       " U-238 (80c) 0.96\n",
       ", 2: MATERIAL: 2 fractions: atom\n",
       " H-1   (80c) 0.66\n",
       " O-16  (80c) 0.33\n",
       ", 10: MATERIAL: 10 fractions: atom\n",
       "Zr-90  (80c) 0.515\n",
       "Zr-91  (80c) 0.112\n",
       "Zr-92  (80c) 0.171\n",
       "Zr-94  (80c) 0.174\n",
       "Zr-96  (80c) 0.028\n",
       "}"
      ]
     },
     "execution_count": 5,
     "metadata": {},
     "output_type": "execute_result"
    }
   ],
   "source": [
    "problem.materials"
   ]
  },
  {
   "cell_type": "markdown",
   "id": "aa6cff1e-fe5e-4401-836a-455db3aa49eb",
   "metadata": {},
   "source": [
    "Theres some issues\n",
    "==================\n",
    "\n",
    "* Density was defined wrong\n",
    "* Wrong cross section data were used."
   ]
  },
  {
   "cell_type": "code",
   "execution_count": 10,
   "id": "fe75b6c4-5e75-4255-8d5f-bc300342d2c1",
   "metadata": {},
   "outputs": [],
   "source": [
    "for cell in problem.cells:\n",
    "    if cell.material:\n",
    "        cell.mass_density = cell.atom_density"
   ]
  },
  {
   "cell_type": "code",
   "execution_count": 13,
   "id": "192b3eca-4178-471a-af14-64d7e5734c60",
   "metadata": {},
   "outputs": [
    {
     "name": "stdout",
     "output_type": "stream",
     "text": [
      "CELL: 1, mat: 1, DENS: 10.0 g/cm3\n",
      "CELL: 2, mat: 0, DENS: None\n",
      "CELL: 3, mat: 10, DENS: 5.0 g/cm3\n",
      "CELL: 5, mat: 2, DENS: 1.0 g/cm3\n"
     ]
    }
   ],
   "source": [
    "for cell in problem.cells:\n",
    "    print(cell)"
   ]
  }
 ],
 "metadata": {
  "kernelspec": {
   "display_name": "Python 3 (ipykernel)",
   "language": "python",
   "name": "python3"
  },
  "language_info": {
   "codemirror_mode": {
    "name": "ipython",
    "version": 3
   },
   "file_extension": ".py",
   "mimetype": "text/x-python",
   "name": "python",
   "nbconvert_exporter": "python",
   "pygments_lexer": "ipython3",
   "version": "3.10.12"
  }
 },
 "nbformat": 4,
 "nbformat_minor": 5
}
